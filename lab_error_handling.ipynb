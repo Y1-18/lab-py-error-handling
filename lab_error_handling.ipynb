{
  "cells": [
    {
      "cell_type": "markdown",
      "metadata": {
        "id": "HoemwLyYi4YE"
      },
      "source": [
        "# LAB | Error Handling in Python\n",
        "\n",
        "## Overview\n",
        "This exercise notebook will help you practice error handling in Python using exceptions. You will write programs that handle various types of exceptions to ensure your code runs smoothly and handles errors gracefully."
      ]
    },
    {
      "cell_type": "markdown",
      "metadata": {
        "id": "M0W6JGkGi4YF"
      },
      "source": [
        "### Exercise 1: Handle ZeroDivisionError\n",
        "Write a Python program to handle a `ZeroDivisionError` exception when dividing a number by zero.\n"
      ]
    },
    {
      "cell_type": "code",
      "execution_count": 2,
      "metadata": {
        "colab": {
          "base_uri": "https://localhost:8080/"
        },
        "id": "nL2rfB16i4YF",
        "outputId": "d14545ed-66c0-46eb-b7e4-1727b3404bd9"
      },
      "outputs": [
        {
          "output_type": "stream",
          "name": "stdout",
          "text": [
            "Enter the numerator: 1\n",
            "Enter the denominator: 0\n",
            "Error: Cannot divide by zero.\n"
          ]
        }
      ],
      "source": [
        "# Your code here\n",
        "try:\n",
        "    numerator = float(input(\"Enter the numerator: \"))\n",
        "    denominator = float(input(\"Enter the denominator: \"))\n",
        "    result = numerator / denominator\n",
        "except ZeroDivisionError:\n",
        "    print(\"Error: Cannot divide by zero.\")\n",
        "else:\n",
        "    print(f\"The result is: {result}\")"
      ]
    },
    {
      "cell_type": "markdown",
      "metadata": {
        "id": "GeUkdoWpi4YF"
      },
      "source": [
        "\n",
        "### Exercise 2: Raise ValueError for Invalid Input\n",
        "Write a Python program that prompts the user to input an integer and raises a `ValueError` exception if the input is not a valid integer.\n",
        "\n"
      ]
    },
    {
      "cell_type": "code",
      "execution_count": 3,
      "metadata": {
        "colab": {
          "base_uri": "https://localhost:8080/"
        },
        "id": "DCST7aMCi4YG",
        "outputId": "31bcadb9-46d0-423b-d6d8-14f51b6e0046"
      },
      "outputs": [
        {
          "output_type": "stream",
          "name": "stdout",
          "text": [
            "Please enter an integer: 1\n",
            "The valid integer you entered is: 1\n"
          ]
        }
      ],
      "source": [
        "# Your code here\n",
        "try:\n",
        "    user_input = input(\"Please enter an integer: \")\n",
        "    if not user_input.isdigit():\n",
        "        raise ValueError(\"Input is not a valid integer.\")\n",
        "    number = int(user_input)\n",
        "except ValueError as e:\n",
        "    print(f\"Error: {e}\")\n",
        "else:\n",
        "    print(f\"The valid integer you entered is: {number}\")"
      ]
    },
    {
      "cell_type": "markdown",
      "metadata": {
        "id": "V1MsBG-ii4YG"
      },
      "source": [
        "\n",
        "\n",
        "### Exercise 3: Handle FileNotFoundError\n",
        "Write a Python program that opens a file and handles a `FileNotFoundError` exception if the file does not exist.\n",
        "\n"
      ]
    },
    {
      "cell_type": "code",
      "execution_count": 5,
      "metadata": {
        "colab": {
          "base_uri": "https://localhost:8080/"
        },
        "id": "Isn-MSpyi4YG",
        "outputId": "ca02bb94-61c2-40be-b9db-8c366653e107"
      },
      "outputs": [
        {
          "output_type": "stream",
          "name": "stdout",
          "text": [
            "Enter the file name to open: Yasser\n",
            "Error: The file 'Yasser' was not found.\n"
          ]
        }
      ],
      "source": [
        "# Your code here\n",
        "try:\n",
        "    file_name = input(\"Enter the file name to open: \")\n",
        "    with open(file_name, 'r') as file:\n",
        "        content = file.read()\n",
        "    print(\"File content:\")\n",
        "    print(content)\n",
        "except FileNotFoundError:\n",
        "    print(f\"Error: The file '{file_name}' was not found.\")"
      ]
    },
    {
      "cell_type": "markdown",
      "metadata": {
        "id": "T1-MzIQki4YG"
      },
      "source": [
        "\n",
        "\n",
        "### Exercise 4: Raise TypeError for Non-Numerical Input\n",
        "Write a Python program that prompts the user to input two numbers and raises a `TypeError` exception if the inputs are not numerical.\n",
        "\n"
      ]
    },
    {
      "cell_type": "code",
      "execution_count": 7,
      "metadata": {
        "colab": {
          "base_uri": "https://localhost:8080/"
        },
        "id": "ftv_k0Dai4YG",
        "outputId": "5e2612a8-422a-4d78-c851-ba13140a78dd"
      },
      "outputs": [
        {
          "output_type": "stream",
          "name": "stdout",
          "text": [
            "Enter the first number: 1\n",
            "Enter the second number: '1\"\n",
            "Error: Inputs must be numerical.\n"
          ]
        }
      ],
      "source": [
        "# Your code here\n",
        "try:\n",
        "    num1 = input(\"Enter the first number: \")\n",
        "    num2 = input(\"Enter the second number: \")\n",
        "    if not num1.isdigit() or not num2.isdigit():\n",
        "        raise TypeError(\"Inputs must be numerical.\")\n",
        "\n",
        "    result = int(num1) + int(num2)\n",
        "except TypeError as e:\n",
        "    print(f\"Error: {e}\")\n",
        "else:\n",
        "    print(f\"The sum of the two numbers is: {result}\")"
      ]
    },
    {
      "cell_type": "markdown",
      "metadata": {
        "id": "cnpLDTubi4YG"
      },
      "source": [
        "\n",
        "\n",
        "### Exercise 5: Handle PermissionError\n",
        "Write a Python program that opens a file and handles a `PermissionError` exception if there is a permission issue.\n",
        "\n",
        "\n"
      ]
    },
    {
      "cell_type": "code",
      "execution_count": 11,
      "metadata": {
        "colab": {
          "base_uri": "https://localhost:8080/"
        },
        "id": "EInStSe-i4YG",
        "outputId": "414d664d-1be4-4a6c-8829-d514281083d7"
      },
      "outputs": [
        {
          "output_type": "stream",
          "name": "stdout",
          "text": [
            "Enter the file name to open: Yasser\n",
            "Error: The file 'Yasser' was not found.\n"
          ]
        }
      ],
      "source": [
        "# Your code here\n",
        "try:\n",
        "    file_name = input(\"Enter the file name to open: \")\n",
        "    # Check if file exists before attempting to open it\n",
        "    import os\n",
        "    if not os.path.exists(file_name):\n",
        "        raise FileNotFoundError(f\"Error: The file '{file_name}' was not found.\")\n",
        "\n",
        "    with open(file_name, 'r') as file:\n",
        "        content = file.read()\n",
        "    print(\"File content:\")\n",
        "    print(content)\n",
        "except FileNotFoundError as e:\n",
        "    print(e) # Print the error message\n",
        "except PermissionError:\n",
        "    print(f\"Error: You do not have permission to open the file '{file_name}'.\")"
      ]
    },
    {
      "cell_type": "markdown",
      "metadata": {
        "id": "y3juVPTbi4YH"
      },
      "source": [
        "\n",
        "\n",
        "### Exercise 6: Handle IndexError in List Operations\n",
        "Write a Python program that executes an operation on a list and handles an `IndexError` exception if the index is out of range.\n",
        "\n",
        "\n"
      ]
    },
    {
      "cell_type": "code",
      "execution_count": 13,
      "metadata": {
        "colab": {
          "base_uri": "https://localhost:8080/"
        },
        "id": "0j7UB1Rli4YH",
        "outputId": "fb2d1953-bff0-4da0-a235-cc45fcb6f9df"
      },
      "outputs": [
        {
          "output_type": "stream",
          "name": "stdout",
          "text": [
            "Enter an index to access the list: 9\n",
            "Error: Index is out of range.\n"
          ]
        }
      ],
      "source": [
        "# Your code here\n",
        "try:\n",
        "    my_list = [1, 2, 3, 4, 5]\n",
        "    index = int(input(\"Enter an index to access the list: \"))\n",
        "    value = my_list[index]\n",
        "    print(f\"Value at index {index}: {value}\")\n",
        "except IndexError:\n",
        "    print(\"Error: Index is out of range.\")"
      ]
    },
    {
      "cell_type": "markdown",
      "metadata": {
        "id": "8rGNyCoki4YH"
      },
      "source": [
        "\n",
        "\n",
        "### Exercise 7: Handle KeyboardInterrupt Exception\n",
        "Write a Python program that prompts the user to input a number and handles a `KeyboardInterrupt` exception if the user cancels the input.\n",
        "\n"
      ]
    },
    {
      "cell_type": "code",
      "execution_count": 16,
      "metadata": {
        "colab": {
          "base_uri": "https://localhost:8080/"
        },
        "id": "Cea1Xv9gi4YH",
        "outputId": "2de447b0-b0d2-4774-83df-e1b4b644597d"
      },
      "outputs": [
        {
          "output_type": "stream",
          "name": "stdout",
          "text": [
            "Please enter a number: t\n",
            "Error: The input is not a valid number.\n"
          ]
        }
      ],
      "source": [
        "# Your code here\n",
        "try:\n",
        "    user_input = input(\"Please enter a number: \")\n",
        "    number = int(user_input)\n",
        "    print(f\"The number you entered is: {number}\")\n",
        "except KeyboardInterrupt:\n",
        "    print(\"\\nError: Input was interrupted. Please try again.\")\n",
        "except ValueError:\n",
        "    print(\"Error: The input is not a valid number.\")"
      ]
    },
    {
      "cell_type": "markdown",
      "metadata": {
        "id": "7bbQAbfpi4YH"
      },
      "source": [
        "\n",
        "\n",
        "### Exercise 8: Handle ArithmeticError\n",
        "Write a Python program that executes division and handles an `ArithmeticError` exception if there is an arithmetic error.\n",
        "\n"
      ]
    },
    {
      "cell_type": "code",
      "execution_count": 18,
      "metadata": {
        "colab": {
          "base_uri": "https://localhost:8080/"
        },
        "id": "VBhxsKZsi4YH",
        "outputId": "f0fc517e-5bf4-4ad8-f193-fd7edf962229"
      },
      "outputs": [
        {
          "output_type": "stream",
          "name": "stdout",
          "text": [
            "Enter the numerator: 0\n",
            "Enter the denominator: 0\n",
            "Error: An arithmetic error occurred, such as division by zero.\n"
          ]
        }
      ],
      "source": [
        "# Your code here\n",
        "try:\n",
        "    numerator = float(input(\"Enter the numerator: \"))\n",
        "    denominator = float(input(\"Enter the denominator: \"))\n",
        "    result = numerator / denominator\n",
        "except ArithmeticError:\n",
        "    print(\"Error: An arithmetic error occurred, such as division by zero.\")\n",
        "else:\n",
        "    print(f\"The result of the division is: {result}\")\n"
      ]
    },
    {
      "cell_type": "markdown",
      "metadata": {
        "id": "8NC9S98yi4YH"
      },
      "source": [
        "\n",
        "\n",
        "### Exercise 9: Handle UnicodeDecodeError\n",
        "Write a Python program that opens a file and handles a `UnicodeDecodeError` exception if there is an encoding issue.\n",
        "\n"
      ]
    },
    {
      "cell_type": "code",
      "execution_count": 20,
      "metadata": {
        "colab": {
          "base_uri": "https://localhost:8080/"
        },
        "id": "W4IbBkdzi4YH",
        "outputId": "b73c7f27-a82d-4451-b7a2-6b059b64df3b"
      },
      "outputs": [
        {
          "output_type": "stream",
          "name": "stdout",
          "text": [
            "Enter the file name to open: Yasser\n",
            "Error: The file 'Yasser' was not found.\n"
          ]
        }
      ],
      "source": [
        "# Your code here\n",
        "try:\n",
        "    file_name = input(\"Enter the file name to open: \")\n",
        "    with open(file_name, 'r', encoding='utf-8') as file:\n",
        "        content = file.read()\n",
        "    print(\"File content:\")\n",
        "    print(content)\n",
        "except UnicodeDecodeError:\n",
        "    print(f\"Error: There was a problem decoding the file '{file_name}' due to an encoding issue.\")\n",
        "except FileNotFoundError:\n",
        "    print(f\"Error: The file '{file_name}' was not found.\")\n"
      ]
    },
    {
      "cell_type": "markdown",
      "metadata": {
        "id": "ZEm9X_dni4YH"
      },
      "source": [
        "\n",
        "\n",
        "### Exercise 10: Handle AttributeError\n",
        "Write a Python program that executes an operation on an object and handles an `AttributeError` exception if the attribute does not exist.\n",
        "\n"
      ]
    },
    {
      "cell_type": "code",
      "execution_count": 21,
      "metadata": {
        "colab": {
          "base_uri": "https://localhost:8080/"
        },
        "id": "DGxkde9vi4YH",
        "outputId": "843f39ca-1ad9-47d4-b954-111ca837f5ab"
      },
      "outputs": [
        {
          "output_type": "stream",
          "name": "stdout",
          "text": [
            "Error: The 'Person' object does not have the 'age' attribute.\n"
          ]
        }
      ],
      "source": [
        "# Your code here\n",
        "class Person:\n",
        "    def __init__(self, name):\n",
        "        self.name = name\n",
        "\n",
        "try:\n",
        "    person = Person(\"Yasser\")\n",
        "\n",
        "    print(person.age)\n",
        "except AttributeError:\n",
        "    print(\"Error: The 'Person' object does not have the 'age' attribute.\")\n"
      ]
    },
    {
      "cell_type": "markdown",
      "metadata": {
        "id": "oBtKGvrpi4YI"
      },
      "source": [
        "\n",
        "\n",
        "## Bonus Exercises\n",
        "\n",
        "### Bonus Exercise 1: Handle Multiple Exceptions\n",
        "Write a Python program that demonstrates handling multiple exceptions in one block.\n",
        "\n",
        "\n"
      ]
    },
    {
      "cell_type": "code",
      "execution_count": 22,
      "metadata": {
        "colab": {
          "base_uri": "https://localhost:8080/"
        },
        "id": "eoIVovVKi4YI",
        "outputId": "0fe4e87e-0bd7-4e6e-a0b9-e41024cb8626"
      },
      "outputs": [
        {
          "output_type": "stream",
          "name": "stdout",
          "text": [
            "Enter a number to divide 100 by: 19\n",
            "The result of 100 divided by 19 is: 5.2631578947368425\n"
          ]
        }
      ],
      "source": [
        "# Your code here\n",
        "try:\n",
        "    user_input = input(\"Enter a number to divide 100 by: \")\n",
        "    number = int(user_input)  # Convert input to an integer\n",
        "\n",
        "    result = 100 / number\n",
        "\n",
        "except (ValueError, ZeroDivisionError) as e:\n",
        "    if isinstance(e, ValueError):\n",
        "        print(\"Error: You must enter a valid integer.\")\n",
        "    elif isinstance(e, ZeroDivisionError):\n",
        "        print(\"Error: Division by zero is not allowed.\")\n",
        "else:\n",
        "    print(f\"The result of 100 divided by {number} is: {result}\")\n"
      ]
    },
    {
      "cell_type": "markdown",
      "metadata": {
        "id": "MqcQoxi-i4YI"
      },
      "source": [
        "\n",
        "\n",
        "### Bonus Exercise 2: Create Custom Exception\n",
        "Create a custom exception class and raise it in your code when certain conditions are met.\n",
        "\n",
        "\n"
      ]
    },
    {
      "cell_type": "code",
      "execution_count": 25,
      "metadata": {
        "colab": {
          "base_uri": "https://localhost:8080/"
        },
        "id": "kGuX_w7Ki4YI",
        "outputId": "92a569f0-5cfe-4343-ca07-cfd984d40d4d"
      },
      "outputs": [
        {
          "output_type": "stream",
          "name": "stdout",
          "text": [
            "Enter a positive number: -2\n",
            "Error: -2.0 is a negative number.\n"
          ]
        }
      ],
      "source": [
        "# Your code here\n",
        "# Define the custom exception class\n",
        "class NegativeNumberError(Exception):\n",
        "    def __init__(self, message=\"Negative numbers are not allowed\"):\n",
        "        self.message = message\n",
        "        super().__init__(self.message)\n",
        "\n",
        "def check_positive_number(number):\n",
        "    if number < 0:\n",
        "        raise NegativeNumberError(f\"Error: {number} is a negative number.\")\n",
        "    return f\"{number} is a valid positive number.\"\n",
        "\n",
        "try:\n",
        "    user_input = float(input(\"Enter a positive number: \"))\n",
        "    result = check_positive_number(user_input)\n",
        "    print(result)\n",
        "\n",
        "except NegativeNumberError as e:\n",
        "    print(e)\n"
      ]
    },
    {
      "cell_type": "markdown",
      "metadata": {
        "id": "h4pu3t1Di4YI"
      },
      "source": [
        "\n",
        "\n",
        "### Bonus Exercise 3: Validate User Input with Exception Handling\n",
        "Write a program that repeatedly prompts the user for valid input until they provide it, using exception handling to manage invalid inputs.\n",
        "\n"
      ]
    },
    {
      "cell_type": "code",
      "execution_count": 34,
      "metadata": {
        "colab": {
          "base_uri": "https://localhost:8080/"
        },
        "id": "mz74dASui4YI",
        "outputId": "d00378ec-46b7-4ab4-87c2-a08e30233fa0"
      },
      "outputs": [
        {
          "name": "stdout",
          "output_type": "stream",
          "text": [
            "Please enter a positive integer: 3\n"
          ]
        }
      ],
      "source": [
        "# Your code here\n",
        "def get_valid_number():\n",
        "    while True:\n",
        "        try:\n",
        "            user_input = input(\"Please enter a positive integer: \")\n",
        "            number = int(user_input)\n",
        "            if number <= 0:\n",
        "                raise ValueError(\"The number must be positive.\")\n",
        "            return number\n",
        "        except ValueError as e:\n",
        "            # Catch invalid input and print the error message\n",
        "            print(f\"Invalid input: {e}. Please try again.\")\n",
        "\n",
        "valid_number = get_valid_number()\n",
        "print(f\"You entered a valid positive number: {valid_number}\")\n"
      ]
    },
    {
      "cell_type": "markdown",
      "metadata": {
        "id": "67JAREexi4YI"
      },
      "source": [
        "\n",
        "\n",
        "### Bonus Exercise 4: Log Errors to File\n",
        "Modify your error handling to log errors to a text file instead of printing them to the console.\n",
        "\n"
      ]
    },
    {
      "cell_type": "code",
      "execution_count": 29,
      "metadata": {
        "colab": {
          "base_uri": "https://localhost:8080/"
        },
        "id": "k_LNL7lyi4YI",
        "outputId": "e737fb90-a10b-469c-d36d-257569d35928"
      },
      "outputs": [
        {
          "name": "stdout",
          "output_type": "stream",
          "text": [
            "Please enter a positive integer: -9\n"
          ]
        },
        {
          "output_type": "stream",
          "name": "stderr",
          "text": [
            "ERROR:root:Invalid input: The number must be positive. - User input: -9\n"
          ]
        },
        {
          "name": "stdout",
          "output_type": "stream",
          "text": [
            "Please enter a positive integer: 9\n"
          ]
        }
      ],
      "source": [
        "# Your code here\n",
        "import logging\n",
        "import sys\n",
        "\n",
        "logging.basicConfig(filename='output_log.txt', level=logging.INFO,\n",
        "                    format='%(asctime)s - %(levelname)s - %(message)s')\n",
        "\n",
        "sys.stdout = open('output_log.txt', 'a')\n",
        "\n",
        "def get_valid_number():\n",
        "    while True:\n",
        "        try:\n",
        "            user_input = input(\"Please enter a positive integer: \")\n",
        "            number = int(user_input)\n",
        "\n",
        "            if number <= 0:\n",
        "                raise ValueError(\"The number must be positive.\")\n",
        "\n",
        "            return number\n",
        "\n",
        "        except ValueError as e:\n",
        "            logging.error(f\"Invalid input: {e} - User input: {user_input}\")\n",
        "            print(f\"Invalid input: {e}. Please try again.\")  # This will be logged too\n",
        "\n",
        "\n",
        "valid_number = get_valid_number()\n",
        "print(f\"You entered a valid positive number: {valid_number}\")\n"
      ]
    },
    {
      "cell_type": "markdown",
      "metadata": {
        "id": "jUGS-Rr1i4YI"
      },
      "source": [
        "\n",
        "\n",
        "### Bonus Exercise 5: Retry Logic on Exception\n",
        "Implement retry logic for operations that could fail, allowing users to try again after encountering an error.\n",
        "\n"
      ]
    },
    {
      "cell_type": "code",
      "execution_count": 35,
      "metadata": {
        "colab": {
          "base_uri": "https://localhost:8080/"
        },
        "id": "aS1kaicAi4YI",
        "outputId": "e6aa11b9-e7ff-4af1-dada-6fb9498ca9fb"
      },
      "outputs": [
        {
          "name": "stdout",
          "output_type": "stream",
          "text": [
            "Enter the numerator: 3\n",
            "Enter the denominator: 2\n"
          ]
        }
      ],
      "source": [
        "# Your code here\n",
        "import time\n",
        "\n",
        "def divide_numbers():\n",
        "    retries = 3\n",
        "    while retries > 0:\n",
        "        try:\n",
        "            numerator = float(input(\"Enter the numerator: \"))\n",
        "            denominator = float(input(\"Enter the denominator: \"))\n",
        "\n",
        "            result = numerator / denominator\n",
        "            print(f\"The result of {numerator} divided by {denominator} is: {result}\")\n",
        "            return\n",
        "\n",
        "        except ZeroDivisionError:\n",
        "            print(\"Error: Division by zero is not allowed.\")\n",
        "\n",
        "        except ValueError:\n",
        "            print(\"Error: Invalid input. Please enter a valid number.\")\n",
        "\n",
        "        except Exception as e:\n",
        "            print(f\"An unexpected error occurred: {e}\")\n",
        "        retries -= 1\n",
        "        if retries > 0:\n",
        "            print(f\"Please try again. You have {retries} attempts left.\")\n",
        "            time.sleep(2)  # Adding a short delay before retrying\n",
        "        else:\n",
        "            print(\"No more retries left. Exiting the program.\")\n",
        "\n",
        "# Run the function\n",
        "divide_numbers()\n"
      ]
    },
    {
      "cell_type": "code",
      "source": [
        "\n"
      ],
      "metadata": {
        "id": "KmgKr84Oobg-"
      },
      "execution_count": null,
      "outputs": []
    }
  ],
  "metadata": {
    "kernelspec": {
      "display_name": ".venv",
      "language": "python",
      "name": "python3"
    },
    "language_info": {
      "codemirror_mode": {
        "name": "ipython",
        "version": 3
      },
      "file_extension": ".py",
      "mimetype": "text/x-python",
      "name": "python",
      "nbconvert_exporter": "python",
      "pygments_lexer": "ipython3",
      "version": "3.8.0"
    },
    "colab": {
      "provenance": []
    }
  },
  "nbformat": 4,
  "nbformat_minor": 0
}